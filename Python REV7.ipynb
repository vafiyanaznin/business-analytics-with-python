{
  "nbformat": 4,
  "nbformat_minor": 0,
  "metadata": {
    "colab": {
      "provenance": [],
      "authorship_tag": "ABX9TyMkhS64fWcN+Mm5/sKO6lW6",
      "include_colab_link": true
    },
    "kernelspec": {
      "name": "python3",
      "display_name": "Python 3"
    },
    "language_info": {
      "name": "python"
    }
  },
  "cells": [
    {
      "cell_type": "markdown",
      "metadata": {
        "id": "view-in-github",
        "colab_type": "text"
      },
      "source": [
        "<a href=\"https://colab.research.google.com/github/vafiyanaznin/business-analytics-with-python/blob/main/Python%20REV7.ipynb\" target=\"_parent\"><img src=\"https://colab.research.google.com/assets/colab-badge.svg\" alt=\"Open In Colab\"/></a>"
      ]
    },
    {
      "cell_type": "code",
      "execution_count": 4,
      "metadata": {
        "id": "XCv470gzYvd2"
      },
      "outputs": [],
      "source": [
        "x=[17,13,19,20,18,24,11,23,20,22]\n"
      ]
    },
    {
      "cell_type": "code",
      "source": [
        "def list(x):\n",
        "  print(x)"
      ],
      "metadata": {
        "id": "6cCSdPgzZdc7"
      },
      "execution_count": 5,
      "outputs": []
    },
    {
      "cell_type": "code",
      "source": [
        "list(x)"
      ],
      "metadata": {
        "colab": {
          "base_uri": "https://localhost:8080/"
        },
        "id": "VUc69YP1Ztte",
        "outputId": "97be7d1f-d521-47d5-908a-c396df735d35"
      },
      "execution_count": 6,
      "outputs": [
        {
          "output_type": "stream",
          "name": "stdout",
          "text": [
            "[17, 13, 19, 20, 18, 24, 11, 23, 20, 22]\n"
          ]
        }
      ]
    },
    {
      "cell_type": "code",
      "source": [
        "sum(x)"
      ],
      "metadata": {
        "colab": {
          "base_uri": "https://localhost:8080/"
        },
        "id": "DGrfDjhOZvxM",
        "outputId": "fe6f38d7-5e60-43d3-ae87-4447fb4ae164"
      },
      "execution_count": 7,
      "outputs": [
        {
          "output_type": "execute_result",
          "data": {
            "text/plain": [
              "187"
            ]
          },
          "metadata": {},
          "execution_count": 7
        }
      ]
    },
    {
      "cell_type": "code",
      "source": [
        "def even(x):\n",
        " for k in x:\n",
        "   if k%2==0:\n",
        "     print(k)\n"
      ],
      "metadata": {
        "id": "jUUGEpDqaA_M"
      },
      "execution_count": 12,
      "outputs": []
    },
    {
      "cell_type": "code",
      "source": [
        "even(x)"
      ],
      "metadata": {
        "colab": {
          "base_uri": "https://localhost:8080/"
        },
        "id": "HOCEfimZeTRg",
        "outputId": "281a7d91-82e6-47cb-f0f6-0a0148716658"
      },
      "execution_count": 13,
      "outputs": [
        {
          "output_type": "stream",
          "name": "stdout",
          "text": [
            "20\n",
            "18\n",
            "24\n",
            "20\n",
            "22\n"
          ]
        }
      ]
    },
    {
      "cell_type": "code",
      "source": [
        "def odd(x):\n",
        "  for k in x:\n",
        "    if k %2 !=0:\n",
        "      print(k)\n"
      ],
      "metadata": {
        "id": "Z5P12K4tf3uv"
      },
      "execution_count": 14,
      "outputs": []
    },
    {
      "cell_type": "code",
      "source": [
        "odd(x)"
      ],
      "metadata": {
        "colab": {
          "base_uri": "https://localhost:8080/"
        },
        "id": "_uSFjs3QgF2i",
        "outputId": "757d6bd3-bf82-4ce7-94c0-370bf87519df"
      },
      "execution_count": 16,
      "outputs": [
        {
          "output_type": "stream",
          "name": "stdout",
          "text": [
            "17\n",
            "13\n",
            "19\n",
            "11\n",
            "23\n"
          ]
        }
      ]
    },
    {
      "cell_type": "code",
      "source": [
        "text=input(\"Enter the String: \")\n",
        "vowels = ['a', 'e', 'i', 'o', 'u', 'A', 'E', 'I', 'O', 'U']\n",
        "newtext = \"\"\n",
        "textlen = len(text)\n",
        "\n",
        "for i in range(textlen):\n",
        "    if text[i] not in vowels:\n",
        "        newtext = newtext + text[i]\n",
        "\n",
        "print(\"\\nString after removing Vowels: \")\n",
        "text = newtext\n",
        "print(text)"
      ],
      "metadata": {
        "colab": {
          "base_uri": "https://localhost:8080/"
        },
        "id": "P-rKF5QHh2lh",
        "outputId": "5bbc9c3b-cdc2-4f4e-cd2d-0483a2a2f531"
      },
      "execution_count": 18,
      "outputs": [
        {
          "output_type": "stream",
          "name": "stdout",
          "text": [
            "Enter the String: Python is a high-level, general-purpose programming language\n",
            "\n",
            "String after removing Vowels: \n",
            "Pythn s  hgh-lvl, gnrl-prps prgrmmng lngg\n"
          ]
        }
      ]
    }
  ]
}