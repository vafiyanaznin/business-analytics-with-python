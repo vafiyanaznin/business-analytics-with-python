{
  "nbformat": 4,
  "nbformat_minor": 0,
  "metadata": {
    "colab": {
      "provenance": [],
      "authorship_tag": "ABX9TyOFA6fEj7bNdaWWJgL2cA03",
      "include_colab_link": true
    },
    "kernelspec": {
      "name": "python3",
      "display_name": "Python 3"
    },
    "language_info": {
      "name": "python"
    }
  },
  "cells": [
    {
      "cell_type": "markdown",
      "metadata": {
        "id": "view-in-github",
        "colab_type": "text"
      },
      "source": [
        "<a href=\"https://colab.research.google.com/github/vafiyanaznin/business-analytics-with-python/blob/main/Python%20REV6.ipynb\" target=\"_parent\"><img src=\"https://colab.research.google.com/assets/colab-badge.svg\" alt=\"Open In Colab\"/></a>"
      ]
    },
    {
      "cell_type": "code",
      "execution_count": 2,
      "metadata": {
        "id": "7gOcxXUYMRgO"
      },
      "outputs": [],
      "source": [
        "def VAFIYA():\n",
        "  print(\"India is my country\")\n"
      ]
    },
    {
      "cell_type": "code",
      "source": [
        "VAFIYA()"
      ],
      "metadata": {
        "colab": {
          "base_uri": "https://localhost:8080/"
        },
        "id": "SaOFao7pPkqq",
        "outputId": "0ff79e8c-3dfb-4fc0-e89f-e4996d1fdf06"
      },
      "execution_count": 3,
      "outputs": [
        {
          "output_type": "stream",
          "name": "stdout",
          "text": [
            "India is my country\n"
          ]
        }
      ]
    },
    {
      "cell_type": "code",
      "source": [
        "def NAZNIN(x):\n",
        "  print(\"Your roll number is\",x)"
      ],
      "metadata": {
        "id": "RLVM1yd4P2V-"
      },
      "execution_count": 10,
      "outputs": []
    },
    {
      "cell_type": "code",
      "source": [
        "x=int(input(\"Enter your roll no\"))\n",
        "NAZNIN(x)"
      ],
      "metadata": {
        "colab": {
          "base_uri": "https://localhost:8080/"
        },
        "id": "F_jvvL0kQvEb",
        "outputId": "726f1952-9307-4b87-e9c5-2e6deb6ac0d2"
      },
      "execution_count": 12,
      "outputs": [
        {
          "output_type": "stream",
          "name": "stdout",
          "text": [
            "Enter your roll no11\n",
            "Your roll number is 11\n"
          ]
        }
      ]
    },
    {
      "cell_type": "code",
      "source": [
        "def Vafiya(x,y,z,a):\n",
        "  print(\"My personal details\",x,y,z,a)\n"
      ],
      "metadata": {
        "id": "exb0hmZKRY9Y"
      },
      "execution_count": 18,
      "outputs": []
    },
    {
      "cell_type": "code",
      "source": [
        "x=input(\"Enter your name\")\n",
        "y=int(input(\"Enter your roll no\"))\n",
        "z=input(\"Enter your email adress\")\n",
        "a=input(\"Enter your place\")"
      ],
      "metadata": {
        "colab": {
          "base_uri": "https://localhost:8080/"
        },
        "id": "FC4ciIxsSZzL",
        "outputId": "5383f07d-544a-4056-dc5c-4e41b38a7004"
      },
      "execution_count": 19,
      "outputs": [
        {
          "name": "stdout",
          "output_type": "stream",
          "text": [
            "Enter your nameVafiya\n",
            "Enter your roll no11\n",
            "Enter your email adressap.vafiya@gmail.com\n",
            "Enter your placeCalicut\n"
          ]
        }
      ]
    },
    {
      "cell_type": "code",
      "source": [
        "Vafiya(x,y,z,a)"
      ],
      "metadata": {
        "colab": {
          "base_uri": "https://localhost:8080/"
        },
        "id": "tT8plSFWTPoM",
        "outputId": "8216dd83-a3e3-47a5-a473-919d035cd74e"
      },
      "execution_count": 22,
      "outputs": [
        {
          "output_type": "stream",
          "name": "stdout",
          "text": [
            "My personal details Vafiya 11 ap.vafiya@gmail.com Calicut\n"
          ]
        }
      ]
    },
    {
      "cell_type": "code",
      "source": [
        "x=input(\"Enter your full name\")\n",
        "def firstname(x):\n",
        "  print(x[0:6])\n",
        "def secondname(x):\n",
        "  print(x[6:13])"
      ],
      "metadata": {
        "colab": {
          "base_uri": "https://localhost:8080/"
        },
        "id": "b_JqGyG0TmJu",
        "outputId": "73b92242-9dbc-49f9-c055-83f9cb5d53f6"
      },
      "execution_count": 45,
      "outputs": [
        {
          "name": "stdout",
          "output_type": "stream",
          "text": [
            "Enter your full nameVafiya Naznin\n"
          ]
        }
      ]
    },
    {
      "cell_type": "code",
      "source": [
        "firstname(x)\n",
        "secondname(x)"
      ],
      "metadata": {
        "colab": {
          "base_uri": "https://localhost:8080/"
        },
        "id": "Lj0qMVtcX8Jw",
        "outputId": "1ff9e9b6-0531-4af4-9c94-1b0e2854fccd"
      },
      "execution_count": 46,
      "outputs": [
        {
          "output_type": "stream",
          "name": "stdout",
          "text": [
            "Vafiya\n",
            " Naznin\n"
          ]
        }
      ]
    },
    {
      "cell_type": "code",
      "source": [
        "def first(x):\n",
        "  print(\"enter ur first name\",x[0])"
      ],
      "metadata": {
        "id": "OFRX7iuthPxo"
      },
      "execution_count": 51,
      "outputs": []
    },
    {
      "cell_type": "code",
      "source": [
        "def second(x):\n",
        "  print(\"enter ur second name\",x[1])"
      ],
      "metadata": {
        "id": "SW8UMt2qhUUY"
      },
      "execution_count": 56,
      "outputs": []
    },
    {
      "cell_type": "code",
      "source": [
        "a=input(\"enter ur name\")\n",
        "x=a.split(\" \")\n",
        "first(x)\n",
        "second(x)\n"
      ],
      "metadata": {
        "id": "TSk1tyNPhlh_",
        "outputId": "f52d7d8a-9ec4-447c-d19d-fd5303c17a10",
        "colab": {
          "base_uri": "https://localhost:8080/"
        }
      },
      "execution_count": 59,
      "outputs": [
        {
          "output_type": "stream",
          "name": "stdout",
          "text": [
            "enter ur nameVafiya Naznin\n",
            "enter ur first name Vafiya\n",
            "enter ur second name Naznin\n"
          ]
        }
      ]
    },
    {
      "cell_type": "code",
      "source": [
        "n=int(input(\"enter a number\"))\n",
        "z=n//10\n",
        "y=n%10\n",
        "x= (y*10)+z\n",
        "print(x)"
      ],
      "metadata": {
        "id": "HfNts-qmhpDU",
        "outputId": "a8adeb6e-e7ff-4dd3-8a90-b50a08635681",
        "colab": {
          "base_uri": "https://localhost:8080/"
        }
      },
      "execution_count": 60,
      "outputs": [
        {
          "output_type": "stream",
          "name": "stdout",
          "text": [
            "enter a number13\n",
            "31\n"
          ]
        }
      ]
    },
    {
      "cell_type": "code",
      "source": [],
      "metadata": {
        "id": "Z8_hNSU2jEvU"
      },
      "execution_count": null,
      "outputs": []
    }
  ]
}