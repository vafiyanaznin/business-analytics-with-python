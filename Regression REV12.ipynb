{
  "nbformat": 4,
  "nbformat_minor": 0,
  "metadata": {
    "colab": {
      "provenance": [],
      "authorship_tag": "ABX9TyM24wW9VXMEEJ32ytAd+ITT",
      "include_colab_link": true
    },
    "kernelspec": {
      "name": "python3",
      "display_name": "Python 3"
    },
    "language_info": {
      "name": "python"
    }
  },
  "cells": [
    {
      "cell_type": "markdown",
      "metadata": {
        "id": "view-in-github",
        "colab_type": "text"
      },
      "source": [
        "<a href=\"https://colab.research.google.com/github/vafiyanaznin/business-analytics-with-python/blob/main/Regression%20REV12.ipynb\" target=\"_parent\"><img src=\"https://colab.research.google.com/assets/colab-badge.svg\" alt=\"Open In Colab\"/></a>"
      ]
    },
    {
      "cell_type": "code",
      "execution_count": 1,
      "metadata": {
        "id": "U1AKBFXLHZdr"
      },
      "outputs": [],
      "source": [
        "import numpy as np\n",
        "import matplotlib.pyplot as plt\n",
        "import pandas as pd\n",
        "     "
      ]
    },
    {
      "cell_type": "code",
      "source": [
        "dataset = pd.read_csv('/content/RELIANCE.NS.csv')"
      ],
      "metadata": {
        "id": "A3MY8yd1HiW8"
      },
      "execution_count": 2,
      "outputs": []
    },
    {
      "cell_type": "code",
      "source": [
        "x = dataset.iloc[:, :-1].values\n",
        "     "
      ],
      "metadata": {
        "id": "WJu2Ad6zHnmj"
      },
      "execution_count": 3,
      "outputs": []
    },
    {
      "cell_type": "code",
      "source": [
        "x"
      ],
      "metadata": {
        "colab": {
          "base_uri": "https://localhost:8080/"
        },
        "id": "Aa8XTyPjHqk2",
        "outputId": "78e58117-5401-40a9-ae5d-d75a42a78950"
      },
      "execution_count": 4,
      "outputs": [
        {
          "output_type": "execute_result",
          "data": {
            "text/plain": [
              "array([[  1.],\n",
              "       [  2.],\n",
              "       [  3.],\n",
              "       [  4.],\n",
              "       [  5.],\n",
              "       [  6.],\n",
              "       [  7.],\n",
              "       [  8.],\n",
              "       [  9.],\n",
              "       [ 10.],\n",
              "       [ 11.],\n",
              "       [ 12.],\n",
              "       [ 13.],\n",
              "       [ 14.],\n",
              "       [ 15.],\n",
              "       [ 16.],\n",
              "       [ 17.],\n",
              "       [ 18.],\n",
              "       [ 19.],\n",
              "       [ 20.],\n",
              "       [ 21.],\n",
              "       [ 22.],\n",
              "       [ 23.],\n",
              "       [ 24.],\n",
              "       [ 25.],\n",
              "       [ 26.],\n",
              "       [ 27.],\n",
              "       [ 28.],\n",
              "       [ 29.],\n",
              "       [ 30.],\n",
              "       [ 31.],\n",
              "       [ 32.],\n",
              "       [ 33.],\n",
              "       [ 34.],\n",
              "       [ 35.],\n",
              "       [ 36.],\n",
              "       [ 37.],\n",
              "       [ 38.],\n",
              "       [ 39.],\n",
              "       [ 40.],\n",
              "       [ 41.],\n",
              "       [ 42.],\n",
              "       [ 43.],\n",
              "       [ 44.],\n",
              "       [ 45.],\n",
              "       [ 46.],\n",
              "       [ 47.],\n",
              "       [ 48.],\n",
              "       [ 49.],\n",
              "       [ 50.],\n",
              "       [ 51.],\n",
              "       [ 52.],\n",
              "       [ 53.],\n",
              "       [ 54.],\n",
              "       [ 55.],\n",
              "       [ 56.],\n",
              "       [ 57.],\n",
              "       [ 58.],\n",
              "       [ 59.],\n",
              "       [ 60.],\n",
              "       [ 61.],\n",
              "       [ 62.],\n",
              "       [ 63.],\n",
              "       [ 64.],\n",
              "       [ 65.],\n",
              "       [ 66.],\n",
              "       [ 67.],\n",
              "       [ 68.],\n",
              "       [ 69.],\n",
              "       [ 70.],\n",
              "       [ 71.],\n",
              "       [ 72.],\n",
              "       [ 73.],\n",
              "       [ 74.],\n",
              "       [ 75.],\n",
              "       [ 76.],\n",
              "       [ 77.],\n",
              "       [ 78.],\n",
              "       [ 79.],\n",
              "       [ 80.],\n",
              "       [ 81.],\n",
              "       [ 82.],\n",
              "       [ 83.],\n",
              "       [ 84.],\n",
              "       [ 85.],\n",
              "       [ 86.],\n",
              "       [ 87.],\n",
              "       [ 88.],\n",
              "       [ 89.],\n",
              "       [ 90.],\n",
              "       [ 91.],\n",
              "       [ 92.],\n",
              "       [ 93.],\n",
              "       [ 94.],\n",
              "       [ 95.],\n",
              "       [ 96.],\n",
              "       [ 97.],\n",
              "       [ 98.],\n",
              "       [ 99.],\n",
              "       [100.],\n",
              "       [101.],\n",
              "       [102.],\n",
              "       [103.],\n",
              "       [104.],\n",
              "       [105.],\n",
              "       [106.],\n",
              "       [107.],\n",
              "       [108.],\n",
              "       [109.],\n",
              "       [110.],\n",
              "       [111.],\n",
              "       [112.],\n",
              "       [113.],\n",
              "       [114.],\n",
              "       [115.],\n",
              "       [116.],\n",
              "       [117.],\n",
              "       [118.],\n",
              "       [119.],\n",
              "       [120.],\n",
              "       [121.],\n",
              "       [122.],\n",
              "       [123.],\n",
              "       [124.],\n",
              "       [125.],\n",
              "       [126.],\n",
              "       [127.],\n",
              "       [128.],\n",
              "       [129.],\n",
              "       [130.],\n",
              "       [131.],\n",
              "       [132.],\n",
              "       [133.],\n",
              "       [134.],\n",
              "       [135.],\n",
              "       [136.],\n",
              "       [137.],\n",
              "       [138.],\n",
              "       [139.],\n",
              "       [140.],\n",
              "       [141.],\n",
              "       [142.],\n",
              "       [143.],\n",
              "       [144.],\n",
              "       [145.],\n",
              "       [146.],\n",
              "       [147.],\n",
              "       [148.],\n",
              "       [149.],\n",
              "       [150.],\n",
              "       [151.],\n",
              "       [152.],\n",
              "       [153.],\n",
              "       [154.],\n",
              "       [155.],\n",
              "       [156.],\n",
              "       [157.],\n",
              "       [158.],\n",
              "       [159.],\n",
              "       [160.],\n",
              "       [161.],\n",
              "       [162.],\n",
              "       [163.],\n",
              "       [164.],\n",
              "       [165.],\n",
              "       [166.],\n",
              "       [167.],\n",
              "       [168.],\n",
              "       [169.],\n",
              "       [170.],\n",
              "       [171.],\n",
              "       [172.],\n",
              "       [173.],\n",
              "       [174.],\n",
              "       [175.],\n",
              "       [176.],\n",
              "       [177.],\n",
              "       [178.],\n",
              "       [179.],\n",
              "       [180.],\n",
              "       [181.],\n",
              "       [182.],\n",
              "       [183.],\n",
              "       [184.],\n",
              "       [185.],\n",
              "       [186.],\n",
              "       [187.],\n",
              "       [188.],\n",
              "       [189.],\n",
              "       [190.],\n",
              "       [191.],\n",
              "       [192.],\n",
              "       [193.],\n",
              "       [194.],\n",
              "       [195.],\n",
              "       [196.],\n",
              "       [197.],\n",
              "       [198.],\n",
              "       [199.],\n",
              "       [200.],\n",
              "       [201.],\n",
              "       [202.],\n",
              "       [203.],\n",
              "       [204.],\n",
              "       [205.],\n",
              "       [206.],\n",
              "       [207.],\n",
              "       [208.],\n",
              "       [209.],\n",
              "       [210.],\n",
              "       [211.],\n",
              "       [212.],\n",
              "       [213.],\n",
              "       [214.],\n",
              "       [215.],\n",
              "       [216.],\n",
              "       [217.],\n",
              "       [218.],\n",
              "       [219.],\n",
              "       [220.],\n",
              "       [221.],\n",
              "       [222.],\n",
              "       [223.],\n",
              "       [224.],\n",
              "       [225.],\n",
              "       [226.],\n",
              "       [227.],\n",
              "       [228.],\n",
              "       [229.],\n",
              "       [230.],\n",
              "       [231.],\n",
              "       [232.],\n",
              "       [233.],\n",
              "       [234.],\n",
              "       [235.],\n",
              "       [236.],\n",
              "       [237.],\n",
              "       [238.],\n",
              "       [239.],\n",
              "       [240.],\n",
              "       [241.],\n",
              "       [242.],\n",
              "       [243.],\n",
              "       [244.],\n",
              "       [245.],\n",
              "       [246.],\n",
              "       [247.],\n",
              "       [248.],\n",
              "       [249.],\n",
              "       [250.]])"
            ]
          },
          "metadata": {},
          "execution_count": 4
        }
      ]
    },
    {
      "cell_type": "code",
      "source": [
        "y = dataset.iloc[:, -1].values\n",
        "     "
      ],
      "metadata": {
        "id": "WgWRTSGiHrOL"
      },
      "execution_count": 5,
      "outputs": []
    },
    {
      "cell_type": "code",
      "source": [
        "y"
      ],
      "metadata": {
        "colab": {
          "base_uri": "https://localhost:8080/"
        },
        "id": "CSlCAjN8H4df",
        "outputId": "154209b3-306f-4b43-a058-e9b1d539e5f3"
      },
      "execution_count": 6,
      "outputs": [
        {
          "output_type": "execute_result",
          "data": {
            "text/plain": [
              "array([2305.      , 2280.100098, 2243.      , 2334.449951, 2400.      ,\n",
              "       2353.      , 2278.699951, 2211.5     , 2236.      , 2400.      ,\n",
              "       2376.050049, 2386.899902, 2427.949951, 2382.      , 2432.75    ,\n",
              "       2444.      , 2460.100098, 2523.      , 2510.      , 2582.5     ,\n",
              "       2610.      , 2638.      , 2639.899902, 2664.949951, 2636.      ,\n",
              "       2655.449951, 2651.100098, 2587.100098, 2595.100098, 2560.      ,\n",
              "       2600.      , 2587.      , 2574.5     , 2533.      , 2558.      ,\n",
              "       2657.100098, 2750.899902, 2758.899902, 2742.399902, 2710.      ,\n",
              "       2755.850098, 2809.949951, 2856.149902, 2762.      , 2785.      ,\n",
              "       2723.5     , 2612.199951, 2574.949951, 2495.      , 2472.649902,\n",
              "       2427.5     , 2426.      , 2434.449951, 2435.100098, 2539.649902,\n",
              "       2484.      , 2512.5     , 2631.5     , 2607.      , 2635.      ,\n",
              "       2624.399902, 2593.050049, 2615.      , 2641.399902, 2634.300049,\n",
              "       2634.      , 2744.      , 2780.      , 2769.899902, 2772.75    ,\n",
              "       2710.      , 2771.899902, 2650.      , 2650.050049, 2617.550049,\n",
              "       2623.      , 2560.      , 2605.      , 2560.      , 2558.100098,\n",
              "       2515.050049, 2480.      , 2544.949951, 2482.100098, 2507.199951,\n",
              "       2580.      , 2574.899902, 2378.949951, 2423.      , 2420.100098,\n",
              "       2425.899902, 2418.      , 2376.5     , 2404.      , 2427.300049,\n",
              "       2388.      , 2415.      , 2421.      , 2400.300049, 2540.      ,\n",
              "       2494.      , 2500.      , 2467.449951, 2421.100098, 2419.949951,\n",
              "       2436.      , 2474.699951, 2519.149902, 2572.5     , 2600.      ,\n",
              "       2610.      , 2576.      , 2531.      , 2576.899902, 2603.100098,\n",
              "       2590.300049, 2646.199951, 2665.      , 2660.      , 2650.      ,\n",
              "       2617.      , 2594.      , 2640.100098, 2648.949951, 2633.      ,\n",
              "       2585.      , 2614.      , 2582.649902, 2560.399902, 2531.      ,\n",
              "       2573.      , 2575.      , 2588.25    , 2610.      , 2570.550049,\n",
              "       2618.      , 2575.      , 2583.      , 2543.75    , 2499.199951,\n",
              "       2522.449951, 2496.75    , 2486.      , 2485.      , 2394.050049,\n",
              "       2394.      , 2360.350098, 2360.      , 2311.      , 2391.5     ,\n",
              "       2397.800049, 2429.      , 2414.649902, 2405.      , 2414.      ,\n",
              "       2352.      , 2371.399902, 2415.      , 2355.      , 2422.      ,\n",
              "       2454.5     , 2485.      , 2507.699951, 2460.      , 2499.      ,\n",
              "       2458.      , 2465.      , 2541.      , 2600.      , 2532.300049,\n",
              "       2529.850098, 2553.899902, 2591.      , 2610.300049, 2590.      ,\n",
              "       2600.      , 2630.75    , 2622.300049, 2610.      , 2584.949951,\n",
              "       2606.75    , 2588.      , 2545.      , 2575.      , 2566.      ,\n",
              "       2589.      , 2608.899902, 2703.949951, 2712.5     , 2741.800049,\n",
              "       2730.      , 2712.      , 2665.100098, 2685.      , 2660.      ,\n",
              "       2646.      , 2585.5     , 2613.100098, 2637.649902, 2602.5     ,\n",
              "       2571.      , 2581.      , 2583.899902, 2621.      , 2598.      ,\n",
              "       2563.300049, 2514.75    , 2530.      , 2538.      , 2527.      ,\n",
              "       2545.100098, 2550.      , 2565.050049, 2557.      , 2523.5     ,\n",
              "       2526.649902, 2545.300049, 2606.      , 2552.5     , 2524.850098,\n",
              "       2458.399902, 2472.699951, 2458.      , 2473.5     , 2472.899902,\n",
              "       2475.      , 2449.      , 2440.      , 2412.449951, 2384.399902,\n",
              "       2331.699951, 2382.      , 2379.949951, 2318.      , 2349.      ,\n",
              "       2315.      , 2312.      , 2313.      , 2353.449951, 2354.899902,\n",
              "       2340.199951, 2329.949951, 2376.      , 2449.449951, 2420.      ,\n",
              "       2445.      , 2424.      , 2425.949951, 2378.      , 2372.      ])"
            ]
          },
          "metadata": {},
          "execution_count": 6
        }
      ]
    },
    {
      "cell_type": "code",
      "source": [
        "from sklearn.model_selection import train_test_split\n",
        "x_train, x_test, y_train, y_test = train_test_split(x, y, test_size = 0.2, random_state = 0)\n",
        "     "
      ],
      "metadata": {
        "id": "SLRLfUJkH5UR"
      },
      "execution_count": 7,
      "outputs": []
    },
    {
      "cell_type": "code",
      "source": [
        "from sklearn.linear_model import LinearRegression\n",
        "regressor = LinearRegression()\n",
        "regressor.fit(x_train, y_train)\n",
        "     "
      ],
      "metadata": {
        "colab": {
          "base_uri": "https://localhost:8080/"
        },
        "id": "waqfa_IuH_g3",
        "outputId": "817c4b24-798c-474b-fc39-8723c50a767b"
      },
      "execution_count": 8,
      "outputs": [
        {
          "output_type": "execute_result",
          "data": {
            "text/plain": [
              "LinearRegression()"
            ]
          },
          "metadata": {},
          "execution_count": 8
        }
      ]
    },
    {
      "cell_type": "code",
      "source": [
        "y_pred = regressor.predict(x_test)"
      ],
      "metadata": {
        "id": "6wUI9JlqICnj"
      },
      "execution_count": 9,
      "outputs": []
    },
    {
      "cell_type": "code",
      "source": [
        "plt.scatter(x_test, y_test, color = 'red')\n",
        "plt.scatter(x_train, y_train, color = 'green')\n",
        "plt.plot(x_test, y_pred, color = 'blue')\n",
        "plt.xlabel('Volume')\n",
        "plt.ylabel('Profit')\n",
        "plt.show()"
      ],
      "metadata": {
        "colab": {
          "base_uri": "https://localhost:8080/",
          "height": 279
        },
        "id": "fGdsoYxjIFH4",
        "outputId": "4f7ef3fd-2fe2-4d60-cf9b-08b5e6745757"
      },
      "execution_count": 10,
      "outputs": [
        {
          "output_type": "display_data",
          "data": {
            "text/plain": [
              "<Figure size 432x288 with 1 Axes>"
            ],
            "image/png": "[encoded data removed]"
          },
          "metadata": {
            "needs_background": "light"
          }
        }
      ]
    },
    {
      "cell_type": "code",
      "source": [
        "x_questionbank = dataset.iloc[0:200,0:1].values"
      ],
      "metadata": {
        "id": "miz0RzIVIS_6"
      },
      "execution_count": 11,
      "outputs": []
    },
    {
      "cell_type": "code",
      "source": [
        "print(x_questionbank)"
      ],
      "metadata": {
        "colab": {
          "base_uri": "https://localhost:8080/"
        },
        "id": "EYIqywXlQTqh",
        "outputId": "c2696541-f567-48a1-a24b-545a8a960d0a"
      },
      "execution_count": 12,
      "outputs": [
        {
          "output_type": "stream",
          "name": "stdout",
          "text": [
            "[[  1.]\n",
            " [  2.]\n",
            " [  3.]\n",
            " [  4.]\n",
            " [  5.]\n",
            " [  6.]\n",
            " [  7.]\n",
            " [  8.]\n",
            " [  9.]\n",
            " [ 10.]\n",
            " [ 11.]\n",
            " [ 12.]\n",
            " [ 13.]\n",
            " [ 14.]\n",
            " [ 15.]\n",
            " [ 16.]\n",
            " [ 17.]\n",
            " [ 18.]\n",
            " [ 19.]\n",
            " [ 20.]\n",
            " [ 21.]\n",
            " [ 22.]\n",
            " [ 23.]\n",
            " [ 24.]\n",
            " [ 25.]\n",
            " [ 26.]\n",
            " [ 27.]\n",
            " [ 28.]\n",
            " [ 29.]\n",
            " [ 30.]\n",
            " [ 31.]\n",
            " [ 32.]\n",
            " [ 33.]\n",
            " [ 34.]\n",
            " [ 35.]\n",
            " [ 36.]\n",
            " [ 37.]\n",
            " [ 38.]\n",
            " [ 39.]\n",
            " [ 40.]\n",
            " [ 41.]\n",
            " [ 42.]\n",
            " [ 43.]\n",
            " [ 44.]\n",
            " [ 45.]\n",
            " [ 46.]\n",
            " [ 47.]\n",
            " [ 48.]\n",
            " [ 49.]\n",
            " [ 50.]\n",
            " [ 51.]\n",
            " [ 52.]\n",
            " [ 53.]\n",
            " [ 54.]\n",
            " [ 55.]\n",
            " [ 56.]\n",
            " [ 57.]\n",
            " [ 58.]\n",
            " [ 59.]\n",
            " [ 60.]\n",
            " [ 61.]\n",
            " [ 62.]\n",
            " [ 63.]\n",
            " [ 64.]\n",
            " [ 65.]\n",
            " [ 66.]\n",
            " [ 67.]\n",
            " [ 68.]\n",
            " [ 69.]\n",
            " [ 70.]\n",
            " [ 71.]\n",
            " [ 72.]\n",
            " [ 73.]\n",
            " [ 74.]\n",
            " [ 75.]\n",
            " [ 76.]\n",
            " [ 77.]\n",
            " [ 78.]\n",
            " [ 79.]\n",
            " [ 80.]\n",
            " [ 81.]\n",
            " [ 82.]\n",
            " [ 83.]\n",
            " [ 84.]\n",
            " [ 85.]\n",
            " [ 86.]\n",
            " [ 87.]\n",
            " [ 88.]\n",
            " [ 89.]\n",
            " [ 90.]\n",
            " [ 91.]\n",
            " [ 92.]\n",
            " [ 93.]\n",
            " [ 94.]\n",
            " [ 95.]\n",
            " [ 96.]\n",
            " [ 97.]\n",
            " [ 98.]\n",
            " [ 99.]\n",
            " [100.]\n",
            " [101.]\n",
            " [102.]\n",
            " [103.]\n",
            " [104.]\n",
            " [105.]\n",
            " [106.]\n",
            " [107.]\n",
            " [108.]\n",
            " [109.]\n",
            " [110.]\n",
            " [111.]\n",
            " [112.]\n",
            " [113.]\n",
            " [114.]\n",
            " [115.]\n",
            " [116.]\n",
            " [117.]\n",
            " [118.]\n",
            " [119.]\n",
            " [120.]\n",
            " [121.]\n",
            " [122.]\n",
            " [123.]\n",
            " [124.]\n",
            " [125.]\n",
            " [126.]\n",
            " [127.]\n",
            " [128.]\n",
            " [129.]\n",
            " [130.]\n",
            " [131.]\n",
            " [132.]\n",
            " [133.]\n",
            " [134.]\n",
            " [135.]\n",
            " [136.]\n",
            " [137.]\n",
            " [138.]\n",
            " [139.]\n",
            " [140.]\n",
            " [141.]\n",
            " [142.]\n",
            " [143.]\n",
            " [144.]\n",
            " [145.]\n",
            " [146.]\n",
            " [147.]\n",
            " [148.]\n",
            " [149.]\n",
            " [150.]\n",
            " [151.]\n",
            " [152.]\n",
            " [153.]\n",
            " [154.]\n",
            " [155.]\n",
            " [156.]\n",
            " [157.]\n",
            " [158.]\n",
            " [159.]\n",
            " [160.]\n",
            " [161.]\n",
            " [162.]\n",
            " [163.]\n",
            " [164.]\n",
            " [165.]\n",
            " [166.]\n",
            " [167.]\n",
            " [168.]\n",
            " [169.]\n",
            " [170.]\n",
            " [171.]\n",
            " [172.]\n",
            " [173.]\n",
            " [174.]\n",
            " [175.]\n",
            " [176.]\n",
            " [177.]\n",
            " [178.]\n",
            " [179.]\n",
            " [180.]\n",
            " [181.]\n",
            " [182.]\n",
            " [183.]\n",
            " [184.]\n",
            " [185.]\n",
            " [186.]\n",
            " [187.]\n",
            " [188.]\n",
            " [189.]\n",
            " [190.]\n",
            " [191.]\n",
            " [192.]\n",
            " [193.]\n",
            " [194.]\n",
            " [195.]\n",
            " [196.]\n",
            " [197.]\n",
            " [198.]\n",
            " [199.]\n",
            " [200.]]\n"
          ]
        }
      ]
    },
    {
      "cell_type": "code",
      "source": [
        "x_test = dataset.iloc[200:249,0:1].values"
      ],
      "metadata": {
        "id": "TrCjPAI1QkzF"
      },
      "execution_count": 13,
      "outputs": []
    },
    {
      "cell_type": "code",
      "source": [
        "print(x_test)"
      ],
      "metadata": {
        "colab": {
          "base_uri": "https://localhost:8080/"
        },
        "id": "FOp-FqcHQwa8",
        "outputId": "473d9bbc-fd63-4f16-da52-f2bdee9e1d65"
      },
      "execution_count": 14,
      "outputs": [
        {
          "output_type": "stream",
          "name": "stdout",
          "text": [
            "[[201.]\n",
            " [202.]\n",
            " [203.]\n",
            " [204.]\n",
            " [205.]\n",
            " [206.]\n",
            " [207.]\n",
            " [208.]\n",
            " [209.]\n",
            " [210.]\n",
            " [211.]\n",
            " [212.]\n",
            " [213.]\n",
            " [214.]\n",
            " [215.]\n",
            " [216.]\n",
            " [217.]\n",
            " [218.]\n",
            " [219.]\n",
            " [220.]\n",
            " [221.]\n",
            " [222.]\n",
            " [223.]\n",
            " [224.]\n",
            " [225.]\n",
            " [226.]\n",
            " [227.]\n",
            " [228.]\n",
            " [229.]\n",
            " [230.]\n",
            " [231.]\n",
            " [232.]\n",
            " [233.]\n",
            " [234.]\n",
            " [235.]\n",
            " [236.]\n",
            " [237.]\n",
            " [238.]\n",
            " [239.]\n",
            " [240.]\n",
            " [241.]\n",
            " [242.]\n",
            " [243.]\n",
            " [244.]\n",
            " [245.]\n",
            " [246.]\n",
            " [247.]\n",
            " [248.]\n",
            " [249.]]\n"
          ]
        }
      ]
    },
    {
      "cell_type": "code",
      "source": [
        "y_test = dataset.iloc[200:249,-1].values"
      ],
      "metadata": {
        "id": "U_LUIDw5QxPC"
      },
      "execution_count": 15,
      "outputs": []
    },
    {
      "cell_type": "code",
      "source": [
        "print(y_test)"
      ],
      "metadata": {
        "colab": {
          "base_uri": "https://localhost:8080/"
        },
        "id": "hp2bah7mQ32h",
        "outputId": "f6b21c71-b6c1-455e-a22d-37eefec8adec"
      },
      "execution_count": 16,
      "outputs": [
        {
          "output_type": "stream",
          "name": "stdout",
          "text": [
            "[2571.       2581.       2583.899902 2621.       2598.       2563.300049\n",
            " 2514.75     2530.       2538.       2527.       2545.100098 2550.\n",
            " 2565.050049 2557.       2523.5      2526.649902 2545.300049 2606.\n",
            " 2552.5      2524.850098 2458.399902 2472.699951 2458.       2473.5\n",
            " 2472.899902 2475.       2449.       2440.       2412.449951 2384.399902\n",
            " 2331.699951 2382.       2379.949951 2318.       2349.       2315.\n",
            " 2312.       2313.       2353.449951 2354.899902 2340.199951 2329.949951\n",
            " 2376.       2449.449951 2420.       2445.       2424.       2425.949951\n",
            " 2378.      ]\n"
          ]
        }
      ]
    },
    {
      "cell_type": "code",
      "source": [
        "y_questionbank = dataset.iloc[0:200,1].values"
      ],
      "metadata": {
        "id": "HGkMclsmQ8IC"
      },
      "execution_count": 17,
      "outputs": []
    },
    {
      "cell_type": "code",
      "source": [
        "print(y_questionbank)"
      ],
      "metadata": {
        "colab": {
          "base_uri": "https://localhost:8080/"
        },
        "id": "0YmBUUd-RZ6g",
        "outputId": "9d47d628-ff8b-4fad-f5fa-afb69bf7f469"
      },
      "execution_count": 18,
      "outputs": [
        {
          "output_type": "stream",
          "name": "stdout",
          "text": [
            "[2305.       2280.100098 2243.       2334.449951 2400.       2353.\n",
            " 2278.699951 2211.5      2236.       2400.       2376.050049 2386.899902\n",
            " 2427.949951 2382.       2432.75     2444.       2460.100098 2523.\n",
            " 2510.       2582.5      2610.       2638.       2639.899902 2664.949951\n",
            " 2636.       2655.449951 2651.100098 2587.100098 2595.100098 2560.\n",
            " 2600.       2587.       2574.5      2533.       2558.       2657.100098\n",
            " 2750.899902 2758.899902 2742.399902 2710.       2755.850098 2809.949951\n",
            " 2856.149902 2762.       2785.       2723.5      2612.199951 2574.949951\n",
            " 2495.       2472.649902 2427.5      2426.       2434.449951 2435.100098\n",
            " 2539.649902 2484.       2512.5      2631.5      2607.       2635.\n",
            " 2624.399902 2593.050049 2615.       2641.399902 2634.300049 2634.\n",
            " 2744.       2780.       2769.899902 2772.75     2710.       2771.899902\n",
            " 2650.       2650.050049 2617.550049 2623.       2560.       2605.\n",
            " 2560.       2558.100098 2515.050049 2480.       2544.949951 2482.100098\n",
            " 2507.199951 2580.       2574.899902 2378.949951 2423.       2420.100098\n",
            " 2425.899902 2418.       2376.5      2404.       2427.300049 2388.\n",
            " 2415.       2421.       2400.300049 2540.       2494.       2500.\n",
            " 2467.449951 2421.100098 2419.949951 2436.       2474.699951 2519.149902\n",
            " 2572.5      2600.       2610.       2576.       2531.       2576.899902\n",
            " 2603.100098 2590.300049 2646.199951 2665.       2660.       2650.\n",
            " 2617.       2594.       2640.100098 2648.949951 2633.       2585.\n",
            " 2614.       2582.649902 2560.399902 2531.       2573.       2575.\n",
            " 2588.25     2610.       2570.550049 2618.       2575.       2583.\n",
            " 2543.75     2499.199951 2522.449951 2496.75     2486.       2485.\n",
            " 2394.050049 2394.       2360.350098 2360.       2311.       2391.5\n",
            " 2397.800049 2429.       2414.649902 2405.       2414.       2352.\n",
            " 2371.399902 2415.       2355.       2422.       2454.5      2485.\n",
            " 2507.699951 2460.       2499.       2458.       2465.       2541.\n",
            " 2600.       2532.300049 2529.850098 2553.899902 2591.       2610.300049\n",
            " 2590.       2600.       2630.75     2622.300049 2610.       2584.949951\n",
            " 2606.75     2588.       2545.       2575.       2566.       2589.\n",
            " 2608.899902 2703.949951 2712.5      2741.800049 2730.       2712.\n",
            " 2665.100098 2685.       2660.       2646.       2585.5      2613.100098\n",
            " 2637.649902 2602.5     ]\n"
          ]
        }
      ]
    },
    {
      "cell_type": "code",
      "source": [
        "from sklearn.linear_model import LinearRegression\n",
        "regressor = LinearRegression()\n",
        "regressor.fit(x_questionbank, y_questionbank)\n",
        "     "
      ],
      "metadata": {
        "colab": {
          "base_uri": "https://localhost:8080/"
        },
        "id": "5l4tfXWjRss7",
        "outputId": "d8798f3c-7a2f-4c8a-ef9d-251bb12eecd2"
      },
      "execution_count": 19,
      "outputs": [
        {
          "output_type": "execute_result",
          "data": {
            "text/plain": [
              "LinearRegression()"
            ]
          },
          "metadata": {},
          "execution_count": 19
        }
      ]
    },
    {
      "cell_type": "code",
      "source": [
        "regressor.predict(x_test)"
      ],
      "metadata": {
        "colab": {
          "base_uri": "https://localhost:8080/"
        },
        "id": "k85jx-y5SYRQ",
        "outputId": "5c2f3fa2-4d59-4329-d3f1-3a8068b6c0b5"
      },
      "execution_count": 20,
      "outputs": [
        {
          "output_type": "execute_result",
          "data": {
            "text/plain": [
              "array([2566.32187624, 2566.52784271, 2566.73380918, 2566.93977564,\n",
              "       2567.14574211, 2567.35170858, 2567.55767505, 2567.76364152,\n",
              "       2567.96960799, 2568.17557446, 2568.38154093, 2568.5875074 ,\n",
              "       2568.79347387, 2568.99944034, 2569.20540681, 2569.41137328,\n",
              "       2569.61733974, 2569.82330621, 2570.02927268, 2570.23523915,\n",
              "       2570.44120562, 2570.64717209, 2570.85313856, 2571.05910503,\n",
              "       2571.2650715 , 2571.47103797, 2571.67700444, 2571.88297091,\n",
              "       2572.08893738, 2572.29490384, 2572.50087031, 2572.70683678,\n",
              "       2572.91280325, 2573.11876972, 2573.32473619, 2573.53070266,\n",
              "       2573.73666913, 2573.9426356 , 2574.14860207, 2574.35456854,\n",
              "       2574.56053501, 2574.76650147, 2574.97246794, 2575.17843441,\n",
              "       2575.38440088, 2575.59036735, 2575.79633382, 2576.00230029,\n",
              "       2576.20826676])"
            ]
          },
          "metadata": {},
          "execution_count": 20
        }
      ]
    },
    {
      "cell_type": "code",
      "source": [
        "plt.scatter(x_questionbank, y_questionbank, color = 'green')\n",
        "plt.scatter(x_test,y_test,color='blue')\n",
        "plt.scatter(x_test, regressor.predict(x_test), color = 'red')\n",
        "\n",
        "plt.xlabel('Package')\n",
        "plt.ylabel('Sales')\n",
        "plt.show()"
      ],
      "metadata": {
        "colab": {
          "base_uri": "https://localhost:8080/",
          "height": 279
        },
        "id": "TdY5BeWxTASf",
        "outputId": "8f69f964-c54b-4788-a979-03238d06c42c"
      },
      "execution_count": 21,
      "outputs": [
        {
          "output_type": "display_data",
          "data": {
            "text/plain": [
              "<Figure size 432x288 with 1 Axes>"
            ],
            "image/png": "[encoded data removed]"
          },
          "metadata": {
            "needs_background": "light"
          }
        }
      ]
    }
  ]
}