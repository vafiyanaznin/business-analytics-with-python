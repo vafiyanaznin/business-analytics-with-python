{
  "nbformat": 4,
  "nbformat_minor": 0,
  "metadata": {
    "colab": {
      "provenance": [],
      "authorship_tag": "ABX9TyMPzvaA2zGBsoCRZuuBnxzS",
      "include_colab_link": true
    },
    "kernelspec": {
      "name": "python3",
      "display_name": "Python 3"
    },
    "language_info": {
      "name": "python"
    }
  },
  "cells": [
    {
      "cell_type": "markdown",
      "metadata": {
        "id": "view-in-github",
        "colab_type": "text"
      },
      "source": [
        "<a href=\"https://colab.research.google.com/github/vafiyanaznin/business-analytics-with-python/blob/main/HRA.ipynb\" target=\"_parent\"><img src=\"https://colab.research.google.com/assets/colab-badge.svg\" alt=\"Open In Colab\"/></a>"
      ]
    },
    {
      "cell_type": "code",
      "execution_count": 16,
      "metadata": {
        "colab": {
          "base_uri": "https://localhost:8080/"
        },
        "id": "g5omI_w8PRXw",
        "outputId": "ba4adab1-8b1a-40b8-e9ef-c5015ab4f60e"
      },
      "outputs": [
        {
          "name": "stdout",
          "output_type": "stream",
          "text": [
            "Enter your salary500000\n",
            "Enter your HRA of employer400000\n",
            "Enter your HRA which is actually paid200000\n"
          ]
        }
      ],
      "source": [
        "x=int(input(\"Enter your salary\"))*12\n",
        "y=int(input(\"Enter your HRA of employer\"))*12\n",
        "z=int(input(\"Enter your HRA which is actually paid\"))*12"
      ]
    },
    {
      "cell_type": "code",
      "source": [
        "a=z-(x*10/100)\n",
        "print(a)\n",
        "b=x*50/100\n",
        "print(b)"
      ],
      "metadata": {
        "colab": {
          "base_uri": "https://localhost:8080/"
        },
        "id": "RgObAQCcRxIr",
        "outputId": "f7fbb48e-a945-4510-e5d5-932e2a980285"
      },
      "execution_count": 17,
      "outputs": [
        {
          "output_type": "stream",
          "name": "stdout",
          "text": [
            "1800000.0\n",
            "3000000.0\n"
          ]
        }
      ]
    },
    {
      "cell_type": "code",
      "source": [
        "if x<a and x<b:\n",
        "   HRA=x\n",
        "   print(HRA)\n",
        "if a<b and a<x:\n",
        "   HRA=y\n",
        "   print(HRA)\n",
        "if b<x and b<a:\n",
        "   HRA=z\n",
        "   print(HRA)\n"
      ],
      "metadata": {
        "colab": {
          "base_uri": "https://localhost:8080/"
        },
        "id": "h-ExVcQyVD3A",
        "outputId": "c7155fa5-f26b-46c0-a20a-899ac8bbd514"
      },
      "execution_count": 18,
      "outputs": [
        {
          "output_type": "stream",
          "name": "stdout",
          "text": [
            "4800000\n"
          ]
        }
      ]
    },
    {
      "cell_type": "code",
      "source": [
        "y1=x+y-5000\n",
        "print(y1)"
      ],
      "metadata": {
        "colab": {
          "base_uri": "https://localhost:8080/"
        },
        "id": "gzB1eDLwe7us",
        "outputId": "f2d0e3b5-2cc5-4eed-90f4-0461763a35aa"
      },
      "execution_count": 23,
      "outputs": [
        {
          "output_type": "stream",
          "name": "stdout",
          "text": [
            "10795000\n"
          ]
        }
      ]
    },
    {
      "cell_type": "code",
      "source": [
        "if y1<=250000:\n",
        "   print(\"tax is zero\")\n",
        "if y1>=250000 and y1<=500000:\n",
        "   tax=((y1-250000)*5/100)\n",
        "   print(tax)\n",
        "if y1>=500000 and y1<=750000:\n",
        "   tax=((y1-250000)*5/100)+((y1-500000)*10/100)\n",
        "   print(tax)\n",
        "if y1>=750000 and y1<=1000000:\n",
        "   tax=((y1-250000)*5/100)+((y1-500000)*10/100)+((y1-750000)*20/100)\n",
        "   print(tax)\n",
        "if y1>=1250000 and y1<=1500000:\n",
        "   tax=((y1-250000)*5/100)+((y1-500000)*10/100)+((y1-750000)*20/100)+((y1-1250000)*25/100)\n",
        "   print(tax)\n",
        "if y1>=1500000:\n",
        "   tax=((y1-250000)*5/100)+((y1-500000)*10/100)+((y1-750000)*20/100)+((y1-1250000)*25/100)+((y1-1500000)*30/100)\n",
        "   print(tax)"
      ],
      "metadata": {
        "colab": {
          "base_uri": "https://localhost:8080/"
        },
        "id": "XEJbi30ViTU3",
        "outputId": "d5fd93fe-965e-4bc5-be53-ba30f27d6c77"
      },
      "execution_count": 24,
      "outputs": [
        {
          "output_type": "stream",
          "name": "stdout",
          "text": [
            "8740500.0\n"
          ]
        }
      ]
    }
  ]
}