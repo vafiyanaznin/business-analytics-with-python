{
  "nbformat": 4,
  "nbformat_minor": 0,
  "metadata": {
    "colab": {
      "provenance": [],
      "authorship_tag": "ABX9TyMBXQesl9zAi/GVuG8gny+B",
      "include_colab_link": true
    },
    "kernelspec": {
      "name": "python3",
      "display_name": "Python 3"
    },
    "language_info": {
      "name": "python"
    }
  },
  "cells": [
    {
      "cell_type": "markdown",
      "metadata": {
        "id": "view-in-github",
        "colab_type": "text"
      },
      "source": [
        "<a href=\"https://colab.research.google.com/github/vafiyanaznin/business-analytics-with-python/blob/main/HRA_Q12.ipynb\" target=\"_parent\"><img src=\"https://colab.research.google.com/assets/colab-badge.svg\" alt=\"Open In Colab\"/></a>"
      ]
    },
    {
      "cell_type": "code",
      "execution_count": 5,
      "metadata": {
        "colab": {
          "base_uri": "https://localhost:8080/"
        },
        "id": "8LJPFdeCrD59",
        "outputId": "819d91ef-27d8-44c5-f3a9-44010568babd"
      },
      "outputs": [
        {
          "name": "stdout",
          "output_type": "stream",
          "text": [
            "enter your salary300000\n",
            "enter your HRA200000\n",
            "enter your insurance amount100000\n"
          ]
        }
      ],
      "source": [
        "grosssalary=int(input(\"enter your salary\"))\n",
        "hra=int(input(\"enter your HRA\"))\n",
        "insurance=int(input(\"enter your insurance amount\"))"
      ]
    },
    {
      "cell_type": "code",
      "source": [
        "basicsalary=grosssalary-hra\n",
        "print(basicsalary)"
      ],
      "metadata": {
        "colab": {
          "base_uri": "https://localhost:8080/"
        },
        "id": "09YM1JGqrkEg",
        "outputId": "c9a235f7-a26e-49dc-ddb9-d7e18bd258d6"
      },
      "execution_count": 6,
      "outputs": [
        {
          "output_type": "stream",
          "name": "stdout",
          "text": [
            "100000\n"
          ]
        }
      ]
    },
    {
      "cell_type": "code",
      "source": [
        "if hra<=10/100*basicsalary:\n",
        "  print(\"you are exempt from paying tax\")\n",
        "else:\n",
        "  print(\"you have to pay tax\")"
      ],
      "metadata": {
        "colab": {
          "base_uri": "https://localhost:8080/"
        },
        "id": "_gMVcBW-vdJW",
        "outputId": "9c08b4aa-42f9-4d91-f904-0e1eefe1714a"
      },
      "execution_count": 7,
      "outputs": [
        {
          "output_type": "stream",
          "name": "stdout",
          "text": [
            "you have to pay tax\n"
          ]
        }
      ]
    },
    {
      "cell_type": "markdown",
      "source": [],
      "metadata": {
        "id": "4UJHHdEbw0Xa"
      }
    },
    {
      "cell_type": "code",
      "source": [
        "x=basicsalary+insurance\n",
        "print(x)"
      ],
      "metadata": {
        "colab": {
          "base_uri": "https://localhost:8080/"
        },
        "id": "e25KOG-XwoVN",
        "outputId": "e1298584-9fe8-4494-ad08-d9819418d830"
      },
      "execution_count": 8,
      "outputs": [
        {
          "output_type": "stream",
          "name": "stdout",
          "text": [
            "200000\n"
          ]
        }
      ]
    },
    {
      "cell_type": "code",
      "source": [
        "if hra<=250000:\n",
        "  print(\"you are exempt from paying tax\")\n",
        "else:\n",
        "  y=x*10/100\n",
        "  print(\"you have to pay tax amounting to\",y)"
      ],
      "metadata": {
        "colab": {
          "base_uri": "https://localhost:8080/"
        },
        "id": "HpybeQBnw5id",
        "outputId": "c524578a-6fb7-495b-8ba1-911279329f8b"
      },
      "execution_count": 9,
      "outputs": [
        {
          "output_type": "stream",
          "name": "stdout",
          "text": [
            "you are exempt from paying tax\n"
          ]
        }
      ]
    }
  ]
}