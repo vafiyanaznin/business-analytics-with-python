{
  "nbformat": 4,
  "nbformat_minor": 0,
  "metadata": {
    "colab": {
      "provenance": [],
      "authorship_tag": "ABX9TyOkvNybheShizCvvLrvLRhw",
      "include_colab_link": true
    },
    "kernelspec": {
      "name": "python3",
      "display_name": "Python 3"
    },
    "language_info": {
      "name": "python"
    }
  },
  "cells": [
    {
      "cell_type": "markdown",
      "metadata": {
        "id": "view-in-github",
        "colab_type": "text"
      },
      "source": [
        "<a href=\"https://colab.research.google.com/github/vafiyanaznin/business-analytics-with-python/blob/main/Revision.ipynb\" target=\"_parent\"><img src=\"https://colab.research.google.com/assets/colab-badge.svg\" alt=\"Open In Colab\"/></a>"
      ]
    },
    {
      "cell_type": "code",
      "execution_count": 3,
      "metadata": {
        "colab": {
          "base_uri": "https://localhost:8080/"
        },
        "id": "rNcWxAa2EIsV",
        "outputId": "b6581b72-022a-487d-9a5c-a6afda30052b"
      },
      "outputs": [
        {
          "name": "stdout",
          "output_type": "stream",
          "text": [
            "Enter your mark60\n"
          ]
        }
      ],
      "source": [
        "x= int(input(\"Enter your mark\"))"
      ]
    },
    {
      "cell_type": "code",
      "source": [
        "if x>50 :\n",
        "  print(\"You are pass\")\n",
        "if x<50 :\n",
        "  print(\"You are failed\")\n",
        "if x==50 :\n",
        "  print(\"You are just pass\")"
      ],
      "metadata": {
        "colab": {
          "base_uri": "https://localhost:8080/"
        },
        "id": "VJFZb1zaEw_l",
        "outputId": "9f73b7da-f0e6-4fb5-96d4-1d6fc5edee21"
      },
      "execution_count": 5,
      "outputs": [
        {
          "output_type": "stream",
          "name": "stdout",
          "text": [
            "You are pass\n"
          ]
        }
      ]
    },
    {
      "cell_type": "code",
      "source": [
        "x=int(input(\"Enter your salary\"))"
      ],
      "metadata": {
        "colab": {
          "base_uri": "https://localhost:8080/"
        },
        "id": "CWPjZV4MH-4q",
        "outputId": "9e73e57a-7631-4f0b-cb8e-1ded75340eeb"
      },
      "execution_count": 18,
      "outputs": [
        {
          "name": "stdout",
          "output_type": "stream",
          "text": [
            "Enter your salary800000\n"
          ]
        }
      ]
    },
    {
      "cell_type": "code",
      "source": [
        "if x>250000 and x<500000:\n",
        "  tax=(x-250000)*10/100\n",
        "  print(tax)\n",
        "if x>500000:\n",
        "  tax=((x-250000)*10/100)+((x-500000)*20/100)\n",
        "  print(tax)\n",
        "if x<250000:\n",
        "  print(\"you are not taxable\")"
      ],
      "metadata": {
        "colab": {
          "base_uri": "https://localhost:8080/"
        },
        "id": "8uK7nz4PNYix",
        "outputId": "24aa6d63-3a51-42fc-e704-a6df2d80f63a"
      },
      "execution_count": 19,
      "outputs": [
        {
          "output_type": "stream",
          "name": "stdout",
          "text": [
            "115000.0\n"
          ]
        }
      ]
    },
    {
      "cell_type": "code",
      "source": [
        "y=int(input(\"Enter your salary\"))"
      ],
      "metadata": {
        "colab": {
          "base_uri": "https://localhost:8080/"
        },
        "id": "AhAFpatTRLSg",
        "outputId": "62075a78-cbc0-4164-800c-2d8ea8ebafbd"
      },
      "execution_count": 38,
      "outputs": [
        {
          "name": "stdout",
          "output_type": "stream",
          "text": [
            "Enter your salary2000000\n"
          ]
        }
      ]
    },
    {
      "cell_type": "code",
      "source": [
        "if y<=250000:\n",
        "   print(\"tax is zero\")\n",
        "if y>=250000 and y<=500000:\n",
        "   tax=((y-250000)*5/100)\n",
        "   print(tax)\n",
        "if y>=500000 and y<=750000:\n",
        "   tax=((y-250000)*5/100)+((y-500000)*10/100)\n",
        "   print(tax)\n",
        "if y>=750000 and y<=1000000:\n",
        "   tax=((y-250000)*5/100)+((y-500000)*10/100)+((y-750000)*20/100)\n",
        "   print(tax)\n",
        "if y>=1250000 and y<=1500000:\n",
        "   tax=((y-250000)*5/100)+((y-500000)*10/100)+((y-750000)*20/100)+((y-1250000)*25/100)\n",
        "   print(tax)\n",
        "if y>=1500000:\n",
        "   tax=((y-250000)*5/100)+((y-500000)*10/100)+((y-750000)*20/100)+((y-1250000)*25/100)+((y-1500000)*30/100)\n",
        "   print(tax)"
      ],
      "metadata": {
        "colab": {
          "base_uri": "https://localhost:8080/"
        },
        "id": "n8gbPEJdadXZ",
        "outputId": "3705fe08-26ef-4801-d184-e33f57177f5e"
      },
      "execution_count": 39,
      "outputs": [
        {
          "output_type": "stream",
          "name": "stdout",
          "text": [
            "825000.0\n"
          ]
        }
      ]
    }
  ]
}