{
  "nbformat": 4,
  "nbformat_minor": 0,
  "metadata": {
    "colab": {
      "provenance": [],
      "authorship_tag": "ABX9TyPr2vLVFmpOZVr8idU6UJID",
      "include_colab_link": true
    },
    "kernelspec": {
      "name": "python3",
      "display_name": "Python 3"
    },
    "language_info": {
      "name": "python"
    }
  },
  "cells": [
    {
      "cell_type": "markdown",
      "metadata": {
        "id": "view-in-github",
        "colab_type": "text"
      },
      "source": [
        "<a href=\"https://colab.research.google.com/github/vafiyanaznin/business-analytics-with-python/blob/main/REV_6_.ipynb\" target=\"_parent\"><img src=\"https://colab.research.google.com/assets/colab-badge.svg\" alt=\"Open In Colab\"/></a>"
      ]
    },
    {
      "cell_type": "code",
      "execution_count": 1,
      "metadata": {
        "colab": {
          "base_uri": "https://localhost:8080/"
        },
        "id": "pgWKw1uqxAW7",
        "outputId": "0e210b0d-f57c-419e-ee8d-c959a463b5f6"
      },
      "outputs": [
        {
          "output_type": "stream",
          "name": "stdout",
          "text": [
            "This is \"python\" programming\n"
          ]
        }
      ],
      "source": [
        "x=\"This is \\\"python\\\" programming\"\n",
        "print(x)"
      ]
    },
    {
      "cell_type": "code",
      "source": [
        "x='He\\'s a doctor'\n",
        "print(x)"
      ],
      "metadata": {
        "colab": {
          "base_uri": "https://localhost:8080/"
        },
        "id": "r4h-Rn6PxXBg",
        "outputId": "01d8f7e4-85b2-41ef-81f5-a2786d637d37"
      },
      "execution_count": 3,
      "outputs": [
        {
          "output_type": "stream",
          "name": "stdout",
          "text": [
            "He's a doctor\n"
          ]
        }
      ]
    },
    {
      "cell_type": "code",
      "source": [
        "x=\"Hello\\nWorld\"\n",
        "print(x)"
      ],
      "metadata": {
        "colab": {
          "base_uri": "https://localhost:8080/"
        },
        "id": "PI6ouAO2xxPp",
        "outputId": "f25087ce-885b-46ce-f6a9-3a447b670c48"
      },
      "execution_count": 4,
      "outputs": [
        {
          "output_type": "stream",
          "name": "stdout",
          "text": [
            "Hello\n",
            "World\n"
          ]
        }
      ]
    },
    {
      "cell_type": "code",
      "source": [
        "x=\"Hello\\tWorld!\"\n",
        "print(x)"
      ],
      "metadata": {
        "colab": {
          "base_uri": "https://localhost:8080/"
        },
        "id": "69EoHMCJx-BF",
        "outputId": "9370f711-d4b6-480c-82f8-5bb76b8672c4"
      },
      "execution_count": 6,
      "outputs": [
        {
          "output_type": "stream",
          "name": "stdout",
          "text": [
            "Hello\tWorld!\n"
          ]
        }
      ]
    },
    {
      "cell_type": "code",
      "source": [
        "print(\"\\\"Vafiya\\\" Naznin\")"
      ],
      "metadata": {
        "colab": {
          "base_uri": "https://localhost:8080/"
        },
        "id": "kCG60S7byHkv",
        "outputId": "84abe73e-904a-42ec-d50f-0773e65722fd"
      },
      "execution_count": 8,
      "outputs": [
        {
          "output_type": "stream",
          "name": "stdout",
          "text": [
            "\"Vafiya\" Naznin\n"
          ]
        }
      ]
    },
    {
      "cell_type": "code",
      "source": [
        "x=\"He\\'s a Doctor\"\n",
        "print(x)"
      ],
      "metadata": {
        "colab": {
          "base_uri": "https://localhost:8080/"
        },
        "id": "OX9lcm6yzmR7",
        "outputId": "98af752d-24a0-4fd9-e918-6e6a258e7956"
      },
      "execution_count": 9,
      "outputs": [
        {
          "output_type": "stream",
          "name": "stdout",
          "text": [
            "He's a Doctor\n"
          ]
        }
      ]
    },
    {
      "cell_type": "code",
      "source": [
        "print(\"Vafiya \\n Naznin\")"
      ],
      "metadata": {
        "colab": {
          "base_uri": "https://localhost:8080/"
        },
        "id": "HDnx8XuP0rwY",
        "outputId": "2e8845c4-21a5-4c7a-a066-97250ca35e1b"
      },
      "execution_count": 10,
      "outputs": [
        {
          "output_type": "stream",
          "name": "stdout",
          "text": [
            "Vafiya \n",
            " Naznin\n"
          ]
        }
      ]
    },
    {
      "cell_type": "code",
      "source": [
        "x=[\"John\", \"Mary\", \"David\", \"Adam\"]\n",
        "y=int(input(\"Enter a Index\"))\n",
        "n=input(\"Enter a Name\")\n",
        "x.insert(y,n)\n",
        "print(x)\n",
        "\n",
        "\n",
        "\n"
      ],
      "metadata": {
        "colab": {
          "base_uri": "https://localhost:8080/"
        },
        "id": "KUZ-LTB619RM",
        "outputId": "e0a500bf-f51c-46e4-d536-5da9bd11b1ab"
      },
      "execution_count": 27,
      "outputs": [
        {
          "output_type": "stream",
          "name": "stdout",
          "text": [
            "Enter a Index2\n",
            "Enter a NameJack\n",
            "['John', 'Mary', 'Jack', 'David', 'Adam']\n"
          ]
        }
      ]
    },
    {
      "cell_type": "code",
      "source": [
        "def Vafiya():\n",
        "  y=int(input(\"Enter a Index\"))\n",
        "  n=input(\"Enter a Name\")\n",
        "  x.insert(y,n)\n"
      ],
      "metadata": {
        "id": "bFB7OY293jXK"
      },
      "execution_count": 29,
      "outputs": []
    },
    {
      "cell_type": "code",
      "source": [
        "Vafiya()"
      ],
      "metadata": {
        "colab": {
          "base_uri": "https://localhost:8080/"
        },
        "id": "581cTrUa-Pwl",
        "outputId": "c795be8a-3f55-4264-e1e1-5ca2556412af"
      },
      "execution_count": 32,
      "outputs": [
        {
          "name": "stdout",
          "output_type": "stream",
          "text": [
            "Enter a Index2\n",
            "Enter a NameNaznin\n"
          ]
        }
      ]
    },
    {
      "cell_type": "code",
      "source": [
        "def Naznin():\n",
        "  x=int(input(\"Enter a Number\"))\n",
        "  y=int(input(\"Enter a Number\"))\n",
        "  a=x+y\n",
        "  b=x-y\n",
        "  c=x*y\n",
        "  d=x/y\n",
        "  print(a)\n",
        "  print(b)\n",
        "  print(c)\n",
        "  print(d)"
      ],
      "metadata": {
        "id": "xpgRBRgt-Rwo"
      },
      "execution_count": 36,
      "outputs": []
    },
    {
      "cell_type": "code",
      "source": [
        "Naznin()"
      ],
      "metadata": {
        "colab": {
          "base_uri": "https://localhost:8080/"
        },
        "id": "6tx4K2ry_sUo",
        "outputId": "25368e19-5ecd-4212-8bf4-0cf1fc16cad0"
      },
      "execution_count": 37,
      "outputs": [
        {
          "output_type": "stream",
          "name": "stdout",
          "text": [
            "Enter a Number13\n",
            "Enter a Number17\n",
            "30\n",
            "-4\n",
            "221\n",
            "0.7647058823529411\n"
          ]
        }
      ]
    },
    {
      "cell_type": "code",
      "source": [
        "def maths(a,b):\n",
        "  print(a+b)"
      ],
      "metadata": {
        "id": "2SGWUUSO_uKs"
      },
      "execution_count": 38,
      "outputs": []
    },
    {
      "cell_type": "code",
      "source": [
        "x=int(input(\"Enter first value\"))\n",
        "y=int(input(\"Enter second value\"))\n",
        "maths(x,y)"
      ],
      "metadata": {
        "colab": {
          "base_uri": "https://localhost:8080/"
        },
        "id": "l4b-lu28EO1T",
        "outputId": "2b43ec12-6dbf-4f14-8003-d436e18816e2"
      },
      "execution_count": 39,
      "outputs": [
        {
          "output_type": "stream",
          "name": "stdout",
          "text": [
            "Enter first value13\n",
            "Enter second value17\n",
            "30\n"
          ]
        }
      ]
    },
    {
      "cell_type": "code",
      "source": [
        "def substract(a,b):\n",
        "  print(a-b)"
      ],
      "metadata": {
        "id": "cZxg7DjkEhy_"
      },
      "execution_count": 40,
      "outputs": []
    },
    {
      "cell_type": "code",
      "source": [
        "x=int(input(\"Enter first value\"))\n",
        "y=int(input(\"Enter second value\"))\n",
        "substract(x,y)"
      ],
      "metadata": {
        "colab": {
          "base_uri": "https://localhost:8080/"
        },
        "id": "1KcRWDMvFX3Z",
        "outputId": "7703ba82-6989-4faf-95b3-d44e939e1a76"
      },
      "execution_count": 42,
      "outputs": [
        {
          "output_type": "stream",
          "name": "stdout",
          "text": [
            "Enter first value17\n",
            "Enter second value13\n",
            "4\n"
          ]
        }
      ]
    },
    {
      "cell_type": "code",
      "source": [
        "def multiply(a,b):\n",
        "  print(a*b)"
      ],
      "metadata": {
        "id": "SfpIeSeGFk0m"
      },
      "execution_count": 43,
      "outputs": []
    },
    {
      "cell_type": "code",
      "source": [
        "def divide(a,b):\n",
        "  print(a/b)"
      ],
      "metadata": {
        "id": "w0NsFvgHFzju"
      },
      "execution_count": 46,
      "outputs": []
    },
    {
      "cell_type": "code",
      "source": [
        "x=int(input(\"Enter first value\"))\n",
        "y=int(input(\"Enter second value\"))\n",
        "divide(x,y)\n",
        "multiply(x,y)"
      ],
      "metadata": {
        "colab": {
          "base_uri": "https://localhost:8080/"
        },
        "id": "BanfyJBkF7R4",
        "outputId": "e871368b-9e85-4d0a-dc89-e1bcd6974865"
      },
      "execution_count": 48,
      "outputs": [
        {
          "output_type": "stream",
          "name": "stdout",
          "text": [
            "Enter first value5\n",
            "Enter second value4\n",
            "1.25\n",
            "20\n"
          ]
        }
      ]
    },
    {
      "cell_type": "code",
      "source": [],
      "metadata": {
        "id": "LQuQNUMIGA_D"
      },
      "execution_count": null,
      "outputs": []
    }
  ]
}